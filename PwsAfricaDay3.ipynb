{
 "cells": [
  {
   "cell_type": "code",
   "execution_count": 1,
   "metadata": {},
   "outputs": [
    {
     "name": "stdout",
     "output_type": "stream",
     "text": [
      "[11, 2, 4] [4, 5, 6] [10, 8, -12] \n"
     ]
    }
   ],
   "source": [
    "matrix=[[11,2,4],[4,5,6],[10,8,-12]]\n",
    "for i in range(len(matrix)):\n",
    "     print(matrix[i], end=' ')\n",
    "print()"
   ]
  },
  {
   "cell_type": "code",
   "execution_count": 2,
   "metadata": {},
   "outputs": [
    {
     "name": "stdout",
     "output_type": "stream",
     "text": [
      "hello Ange\n"
     ]
    }
   ],
   "source": [
    "def hello(name):\n",
    "    print('hello '+name)\n",
    "hello('Ange')"
   ]
  },
  {
   "cell_type": "code",
   "execution_count": 3,
   "metadata": {},
   "outputs": [
    {
     "data": {
      "text/plain": [
       "10"
      ]
     },
     "execution_count": 3,
     "metadata": {},
     "output_type": "execute_result"
    }
   ],
   "source": [
    "def double(num):\n",
    "    d=num*2\n",
    "    return d\n",
    "num=5\n",
    "double(num)\n"
   ]
  },
  {
   "cell_type": "code",
   "execution_count": 4,
   "metadata": {},
   "outputs": [
    {
     "data": {
      "text/plain": [
       "9"
      ]
     },
     "execution_count": 4,
     "metadata": {},
     "output_type": "execute_result"
    }
   ],
   "source": [
    "def big(a,b):\n",
    "    if a>b:\n",
    "        return a\n",
    "    else:\n",
    "        return b\n",
    "\n",
    "big(1,9)"
   ]
  },
  {
   "cell_type": "code",
   "execution_count": 5,
   "metadata": {},
   "outputs": [
    {
     "data": {
      "text/plain": [
       "'Happy Birthday Bruno'"
      ]
     },
     "execution_count": 5,
     "metadata": {},
     "output_type": "execute_result"
    }
   ],
   "source": [
    "def a(b):\n",
    "    return('Happy Birthday '+b)\n",
    "a('Bruno')"
   ]
  },
  {
   "cell_type": "code",
   "execution_count": 6,
   "metadata": {},
   "outputs": [
    {
     "data": {
      "text/plain": [
       "32"
      ]
     },
     "execution_count": 6,
     "metadata": {},
     "output_type": "execute_result"
    }
   ],
   "source": [
    "def num(a,b):\n",
    "    return a**b\n",
    "num(2,5)\n",
    "\n",
    "#power of two numbers"
   ]
  },
  {
   "cell_type": "code",
   "execution_count": 31,
   "metadata": {},
   "outputs": [
    {
     "name": "stdout",
     "output_type": "stream",
     "text": [
      "you have failed\n"
     ]
    }
   ],
   "source": [
    "def marks(exam):\n",
    "    if exam>50:\n",
    "        print('you have passed')\n",
    "    else:\n",
    "        print('you have failed')\n",
    "marks(4)\n",
    "\n",
    "#print whether someone failed or passed \n",
    "#according to the marks he/she got"
   ]
  },
  {
   "cell_type": "code",
   "execution_count": 8,
   "metadata": {},
   "outputs": [
    {
     "data": {
      "text/plain": [
       "11"
      ]
     },
     "execution_count": 8,
     "metadata": {},
     "output_type": "execute_result"
    }
   ],
   "source": [
    "def list(l):\n",
    "    for i in range(len(l)):\n",
    "        if(l[i]>l[0]):\n",
    "            n=l[i]\n",
    "            l[0]=n\n",
    "            l[i]=l[0]\n",
    "    return l[0] \n",
    "\n",
    "l = [3,7,1,2,9,11]\n",
    "list(l)\n",
    "            \n",
    "            \n",
    "  # printing the maximum number  "
   ]
  },
  {
   "cell_type": "code",
   "execution_count": 27,
   "metadata": {},
   "outputs": [
    {
     "name": "stdout",
     "output_type": "stream",
     "text": [
      "string \n",
      "string \n"
     ]
    }
   ],
   "source": [
    "def twice(s):\n",
    "    for i in range(2):\n",
    "        print(s)\n",
    "twice('string ')\n",
    "\n",
    "#printing the string twice"
   ]
  },
  {
   "cell_type": "code",
   "execution_count": 30,
   "metadata": {},
   "outputs": [
    {
     "name": "stdout",
     "output_type": "stream",
     "text": [
      "string \n",
      "string \n",
      "string \n",
      "string \n",
      "string \n",
      "string \n",
      "string \n",
      "string \n",
      "string \n",
      "string \n"
     ]
    }
   ],
   "source": [
    "def times(s):\n",
    "    for i in range(10):\n",
    "        print(s)\n",
    "times('string ')\n",
    "\n",
    "#print a string 10 times"
   ]
  },
  {
   "cell_type": "code",
   "execution_count": 11,
   "metadata": {},
   "outputs": [
    {
     "name": "stdout",
     "output_type": "stream",
     "text": [
      "Enter a name: tharcissie\n"
     ]
    },
    {
     "data": {
      "text/plain": [
       "'Happy Birthday tharcissie'"
      ]
     },
     "execution_count": 11,
     "metadata": {},
     "output_type": "execute_result"
    }
   ],
   "source": [
    "def wish(s):\n",
    "    return('Happy Birthday '+ s )\n",
    "y=input('Enter a name: ')\n",
    "wish(y)\n",
    "\n",
    "#Write a function that prints out \"Happy Birthday\" and the\n",
    "#input string."
   ]
  },
  {
   "cell_type": "code",
   "execution_count": 12,
   "metadata": {},
   "outputs": [
    {
     "name": "stdout",
     "output_type": "stream",
     "text": [
      "Enter a nametharcissie\n"
     ]
    },
    {
     "data": {
      "text/plain": [
       "'eissicraht'"
      ]
     },
     "execution_count": 12,
     "metadata": {},
     "output_type": "execute_result"
    }
   ],
   "source": [
    "def take(string):\n",
    "    return (string[::-1])\n",
    "y=input('Enter a name')\n",
    "take(y)\n",
    "\n",
    "#reversing a string"
   ]
  },
  {
   "cell_type": "code",
   "execution_count": 13,
   "metadata": {},
   "outputs": [
    {
     "name": "stdout",
     "output_type": "stream",
     "text": [
      "Enter a nametharcissie\n"
     ]
    },
    {
     "data": {
      "text/plain": [
       "('Number of vowels= ', 4)"
      ]
     },
     "execution_count": 13,
     "metadata": {},
     "output_type": "execute_result"
    }
   ],
   "source": [
    "def vowels(s):\n",
    "    count=0\n",
    "    for i in s:\n",
    "         if i=='a' or i=='i' or i=='u' or i=='e' or i=='o':\n",
    "                count=count+1\n",
    "    return('Number of vowels= ', count)\n",
    "s=input('Enter a name')\n",
    "vowels(s)\n",
    "\n",
    "#counts the number of vowels"
   ]
  },
  {
   "cell_type": "code",
   "execution_count": 14,
   "metadata": {},
   "outputs": [
    {
     "name": "stdout",
     "output_type": "stream",
     "text": [
      "Enter the first number6\n",
      "Enter the second number2\n"
     ]
    },
    {
     "data": {
      "text/plain": [
       "'is a factor of the number'"
      ]
     },
     "execution_count": 14,
     "metadata": {},
     "output_type": "execute_result"
    }
   ],
   "source": [
    "def factor(a,b):\n",
    "    if a%b==0:\n",
    "        return('is a factor of the number')\n",
    "    else:\n",
    "         return('is not a factor of the number')\n",
    "x=int(input('Enter the first number'))  \n",
    "y=int(input('Enter the second number'))\n",
    "factor(x,y)\n",
    "    \n",
    " #print wether the two numbers ententered the second one\n",
    "#is the factor of the first one   "
   ]
  },
  {
   "cell_type": "code",
   "execution_count": 15,
   "metadata": {},
   "outputs": [
    {
     "name": "stdout",
     "output_type": "stream",
     "text": [
      "Enter the temperature= -4\n"
     ]
    },
    {
     "data": {
      "text/plain": [
       "'solid'"
      ]
     },
     "execution_count": 15,
     "metadata": {},
     "output_type": "execute_result"
    }
   ],
   "source": [
    "def temp(a):\n",
    "     if a<=0:\n",
    "        return('solid')\n",
    "    \n",
    "     elif a>=100:\n",
    "        return('gaz')\n",
    "    \n",
    "     else:\n",
    "        return('water')\n",
    "y=int(input('Enter the temperature= '))\n",
    "temp(y)\n",
    " \n",
    "    #print whether it is gaz, solid or gaz"
   ]
  },
  {
   "cell_type": "code",
   "execution_count": 16,
   "metadata": {},
   "outputs": [
    {
     "data": {
      "text/plain": [
       "2"
      ]
     },
     "execution_count": 16,
     "metadata": {},
     "output_type": "execute_result"
    }
   ],
   "source": [
    "def name(y,w):\n",
    "    count=0\n",
    "    for i in y:\n",
    "        if i==w:\n",
    "           count=count+1\n",
    "    return count\n",
    "x='tharcissie'\n",
    "z='s'\n",
    "name(x,z)\n",
    "  \n",
    "    #Given a string and a character, write a function that\n",
    "#returns how many times the character appears in the string."
   ]
  },
  {
   "cell_type": "code",
   "execution_count": 17,
   "metadata": {},
   "outputs": [
    {
     "data": {
      "text/plain": [
       "[5, 5, 9, 5]"
      ]
     },
     "execution_count": 17,
     "metadata": {},
     "output_type": "execute_result"
    }
   ],
   "source": [
    "def list(a,b):\n",
    "     sum=[]\n",
    "     for i in range(len(a)):\n",
    "         sum.append(a[i]+b[i])        \n",
    "     return sum\n",
    "\n",
    "l1=[1,2,7,4]\n",
    "l2=[4,3,2,1]\n",
    "list(l1,l2)\n",
    "     \n",
    "#Write a function that takes two lists and returns sum of\n",
    "#elements pairwise.   "
   ]
  },
  {
   "cell_type": "code",
   "execution_count": 18,
   "metadata": {},
   "outputs": [
    {
     "name": "stdout",
     "output_type": "stream",
     "text": [
      "Enter a month: 9\n"
     ]
    },
    {
     "data": {
      "text/plain": [
       "'we are in summer'"
      ]
     },
     "execution_count": 18,
     "metadata": {},
     "output_type": "execute_result"
    }
   ],
   "source": [
    "def month(a):\n",
    "    for i in range(1,8):\n",
    "        return('we are in summer')\n",
    "    for i in range(9,12):\n",
    "        return('we are in winter')\n",
    "               \n",
    "               \n",
    "b=[1,2,3,4,5,6,7,8,9,10,11,12]\n",
    "b=int(input('Enter a month: '))\n",
    "month(b)\n",
    "  \n",
    "    #Write a function that takes a month and returns what\n",
    "#season it is."
   ]
  },
  {
   "cell_type": "code",
   "execution_count": 46,
   "metadata": {},
   "outputs": [
    {
     "name": "stdout",
     "output_type": "stream",
     "text": [
      "[10, 8, 0]\n"
     ]
    }
   ],
   "source": [
    "def list(a,b):\n",
    "    number=[]\n",
    "    for i in a:\n",
    "        if i not in b: \n",
    "            number.append(i)\n",
    "    print(number)\n",
    "l1=[1,10,8,0]\n",
    "l2=[4,3,2,1]\n",
    "list(l1,l2)\n",
    "  #Write a function that takes two lists and returns the\n",
    "#values that are not in the second list, stored in a new list.      "
   ]
  },
  {
   "cell_type": "code",
   "execution_count": 51,
   "metadata": {},
   "outputs": [
    {
     "name": "stdout",
     "output_type": "stream",
     "text": [
      "[4, 3, 2, 10, 8, 0]\n"
     ]
    }
   ],
   "source": [
    "def list(a,b):\n",
    "    number=[]\n",
    "    for u in b:\n",
    "        if u not in a:\n",
    "             number.append(u)\n",
    "    for i in a:\n",
    "        if i not in b:\n",
    "            number.append(i)\n",
    "    print(number)\n",
    "l1=[1,10,8,0]\n",
    "l2=[4,3,2,1]\n",
    "list(l1,l2)\n",
    "\n",
    "#Using the function you wrote in the previous problem,\n",
    "#return a list that only contains values that appear in one list."
   ]
  },
  {
   "cell_type": "code",
   "execution_count": 59,
   "metadata": {},
   "outputs": [
    {
     "name": "stdout",
     "output_type": "stream",
     "text": [
      "[1, 3, 5, 7]\n"
     ]
    }
   ],
   "source": [
    "def list(a):\n",
    "    count=0\n",
    "    for i in a:\n",
    "        count+=1\n",
    "        if count>=2:\n",
    "           a.remove(i)\n",
    "    print(a)\n",
    "y=[1,1,3,4,5,5,7]\n",
    "list(y)\n",
    "\n",
    "#Write a function that removes duplicates from a list."
   ]
  },
  {
   "cell_type": "code",
   "execution_count": 64,
   "metadata": {},
   "outputs": [
    {
     "name": "stdout",
     "output_type": "stream",
     "text": [
      "[1, 3]\n"
     ]
    }
   ],
   "source": [
    "def list(a,b):\n",
    "    intersection=[]\n",
    "    for i in a:\n",
    "        if i in b:\n",
    "           intersection.append(i)\n",
    "    print(intersection)\n",
    "l1=[1,10,3,8,0]\n",
    "l2=[4,3,2,1]\n",
    "list(l1,l2)\n",
    "\n",
    "     # Given 2 lists, find their intersection  "
   ]
  },
  {
   "cell_type": "code",
   "execution_count": null,
   "metadata": {},
   "outputs": [],
   "source": []
  }
 ],
 "metadata": {
  "kernelspec": {
   "display_name": "Python 3",
   "language": "python",
   "name": "python3"
  },
  "language_info": {
   "codemirror_mode": {
    "name": "ipython",
    "version": 3
   },
   "file_extension": ".py",
   "mimetype": "text/x-python",
   "name": "python",
   "nbconvert_exporter": "python",
   "pygments_lexer": "ipython3",
   "version": "3.7.3"
  }
 },
 "nbformat": 4,
 "nbformat_minor": 2
}
