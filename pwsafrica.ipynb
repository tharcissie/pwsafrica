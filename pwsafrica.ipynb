{
 "cells": [
  {
   "cell_type": "code",
   "execution_count": 95,
   "metadata": {},
   "outputs": [
    {
     "name": "stdout",
     "output_type": "stream",
     "text": [
      "[1, 2, 3, 4, 5]\n"
     ]
    }
   ],
   "source": [
    "list=[1,2,3,4,5,6,7,8,9,10]\n",
    "print(list[:5])"
   ]
  },
  {
   "cell_type": "code",
   "execution_count": 3,
   "metadata": {},
   "outputs": [
    {
     "name": "stdout",
     "output_type": "stream",
     "text": [
      "10\n"
     ]
    }
   ],
   "source": [
    "list=[1,2,3,4,5,6,7,8,9,10]\n",
    "l=len(list)\n",
    "print(l)"
   ]
  },
  {
   "cell_type": "code",
   "execution_count": 5,
   "metadata": {},
   "outputs": [
    {
     "name": "stdout",
     "output_type": "stream",
     "text": [
      "19\n"
     ]
    }
   ],
   "source": [
    "list=[1,2,3,4,5,6,7,8,9,10]\n",
    "sum=(list[8]+list[9])\n",
    "print(sum)"
   ]
  },
  {
   "cell_type": "code",
   "execution_count": 94,
   "metadata": {},
   "outputs": [
    {
     "name": "stdout",
     "output_type": "stream",
     "text": [
      "0,1,2,3,4,5,6,7,8,"
     ]
    }
   ],
   "source": [
    "for i in range(0,9):\n",
    "    print(i, end=',')"
   ]
  },
  {
   "cell_type": "code",
   "execution_count": 93,
   "metadata": {},
   "outputs": [
    {
     "name": "stdout",
     "output_type": "stream",
     "text": [
      "0,2,4,6,8,"
     ]
    }
   ],
   "source": [
    "for i in range (0,9):\n",
    "    if (i%2==0):\n",
    "        print(i, end=',')"
   ]
  },
  {
   "cell_type": "code",
   "execution_count": 92,
   "metadata": {},
   "outputs": [
    {
     "name": "stdout",
     "output_type": "stream",
     "text": [
      "1,3,5,7,"
     ]
    }
   ],
   "source": [
    "for i in range (0,9):\n",
    "    if (i%2!=0):\n",
    "        print(i, end=',')"
   ]
  },
  {
   "cell_type": "code",
   "execution_count": 91,
   "metadata": {},
   "outputs": [
    {
     "name": "stdout",
     "output_type": "stream",
     "text": [
      "0,7,14,21,28,35,42,49,56,63,70,77,84,91,98,"
     ]
    }
   ],
   "source": [
    "for i in range(100):\n",
    "    if i%7==0:\n",
    "        print(i, end=',')"
   ]
  },
  {
   "cell_type": "code",
   "execution_count": 90,
   "metadata": {},
   "outputs": [
    {
     "name": "stdout",
     "output_type": "stream",
     "text": [
      "10,9,8,7,6,5,4,3,2,1,"
     ]
    }
   ],
   "source": [
    "for i in range(10,0,-1):\n",
    "    print(i, end=',')"
   ]
  },
  {
   "cell_type": "code",
   "execution_count": 89,
   "metadata": {},
   "outputs": [
    {
     "name": "stdout",
     "output_type": "stream",
     "text": [
      "0,10,20,30,40,50,60,70,80,90,100,"
     ]
    }
   ],
   "source": [
    "for i in range(101):\n",
    "    if (i%10==0):\n",
    "        print(i, end=',')"
   ]
  },
  {
   "cell_type": "code",
   "execution_count": 88,
   "metadata": {},
   "outputs": [
    {
     "name": "stdout",
     "output_type": "stream",
     "text": [
      "1,3,5,7,9,"
     ]
    }
   ],
   "source": [
    "for i in range (1,10,2):\n",
    "    print(i, end=',')"
   ]
  },
  {
   "cell_type": "code",
   "execution_count": 29,
   "metadata": {},
   "outputs": [
    {
     "name": "stdout",
     "output_type": "stream",
     "text": [
      "excellent\n"
     ]
    }
   ],
   "source": [
    "x=85\n",
    "if (x>8):\n",
    "    print('excellent')\n",
    "else:\n",
    "     print('sorry')"
   ]
  },
  {
   "cell_type": "code",
   "execution_count": 87,
   "metadata": {},
   "outputs": [
    {
     "name": "stdout",
     "output_type": "stream",
     "text": [
      "2,3,5,7,11,13,17,19,23,29,31,37,41,43,47,53,59,61,67,71,73,79,83,89,97,101,103,107,109,113,127,131,137,139,149,151,157,163,167,173,179,181,191,193,197,199,211,223,227,229,233,239,241,251,257,263,269,271,277,281,283,293,307,311,313,317,331,337,347,349,353,359,367,373,379,383,389,397,401,409,419,421,431,433,439,443,449,457,461,463,467,479,487,491,499,503,509,521,523,541,547,557,563,569,571,577,587,593,599,601,607,613,617,619,631,641,643,647,653,659,661,673,677,683,691,701,709,719,727,733,739,743,751,757,761,769,773,787,797,809,811,821,823,827,829,839,853,857,859,863,877,881,883,887,907,911,919,929,937,941,947,953,967,971,977,983,991,997,1009,1013,1019,1021,1031,1033,1039,1049,1051,1061,1063,1069,1087,1091,1093,1097,1103,1109,1117,1123,1129,1151,1153,1163,1171,1181,1187,1193,1201,1213,1217,1223,1229,1231,1237,1249,1259,1277,1279,1283,1289,1291,1297,1301,1303,1307,1319,1321,1327,1361,1367,1373,1381,1399,1409,1423,1427,1429,1433,1439,1447,1451,1453,1459,1471,1481,1483,1487,1489,1493,1499,1511,1523,1531,1543,1549,1553,1559,1567,1571,1579,1583,1597,1601,1607,1609,1613,1619,1621,1627,1637,1657,1663,1667,1669,1693,1697,1699,1709,1721,1723,1733,1741,1747,1753,1759,1777,1783,1787,1789,1801,1811,1823,1831,1847,1861,1867,1871,1873,1877,1879,1889,1901,1907,1913,1931,1933,1949,1951,1973,1979,1987,1993,1997,1999,"
     ]
    }
   ],
   "source": [
    "\n",
    "for n in range(2,2000):\n",
    "    \n",
    "    prime= True\n",
    "    for y in range(2,n):\n",
    "        if (n%y==0):\n",
    "            prime= False\n",
    "    if prime:\n",
    "        print(n, end=',')\n",
    "      #printing prime number  "
   ]
  },
  {
   "cell_type": "code",
   "execution_count": 85,
   "metadata": {},
   "outputs": [
    {
     "name": "stdout",
     "output_type": "stream",
     "text": [
      "1,3,5,7,9,11,13,15,17,19,21,23,25,27,29,31,33,35,37,39,41,43,45,47,49,51,53,55,57,59,61,63,65,67,69,71,73,75,77,79,81,83,85,87,89,91,93,95,"
     ]
    }
   ],
   "source": [
    "for n in range(2,50):\n",
    "    n=(n-1)+(n-2)\n",
    "    print(n, end=',')\n",
    "    \n",
    "    \n",
    "    "
   ]
  },
  {
   "cell_type": "code",
   "execution_count": 129,
   "metadata": {},
   "outputs": [
    {
     "name": "stdout",
     "output_type": "stream",
     "text": [
      "w\n",
      "e\n",
      "l\n",
      "c\n",
      "o\n",
      "c\n",
      "m\n",
      "e\n",
      " \n",
      "t\n",
      "o\n",
      " \n",
      "r\n",
      "w\n",
      "a\n",
      "n\n",
      "d\n",
      "a\n"
     ]
    }
   ],
   "source": [
    "list='welcocme to rwanda'\n",
    "for i in list:\n",
    "    print(i)\n",
    "   \n",
    " #printing letters  "
   ]
  },
  {
   "cell_type": "code",
   "execution_count": 126,
   "metadata": {},
   "outputs": [
    {
     "name": "stdout",
     "output_type": "stream",
     "text": [
      "adnawr ot emoclew\n"
     ]
    }
   ],
   "source": [
    "list1='welcome to rwanda'[::-1]\n",
    "print(list1)\n",
    " # reversing letters   "
   ]
  },
  {
   "cell_type": "code",
   "execution_count": 120,
   "metadata": {},
   "outputs": [
    {
     "name": "stdout",
     "output_type": "stream",
     "text": [
      "number is palidrome\n"
     ]
    }
   ],
   "source": [
    "list1='ama'\n",
    "list2='ama'[::-1]\n",
    "if list1==list2:\n",
    "    print('number is palidrome')    \n",
    "else:\n",
    "    print('number is not palidrome')\n",
    "\n",
    "\n",
    "#checking wether a number is palidrome"
   ]
  },
  {
   "cell_type": "code",
   "execution_count": 140,
   "metadata": {},
   "outputs": [
    {
     "name": "stdout",
     "output_type": "stream",
     "text": [
      "w e\n",
      "e m\n",
      "l o\n",
      "c c\n",
      "o l\n",
      "m e\n",
      "e w\n"
     ]
    }
   ],
   "source": [
    "l='welcome'\n",
    "print(l[0],l[-1])\n",
    "print(l[1],l[-2])\n",
    "print(l[2],l[-3])\n",
    "print(l[3],l[-4])\n",
    "print(l[4],l[-5])\n",
    "print(l[5],l[-6])\n",
    "print(l[6],l[-7])\n",
    "# reversing letters"
   ]
  },
  {
   "cell_type": "code",
   "execution_count": 40,
   "metadata": {},
   "outputs": [
    {
     "name": "stdout",
     "output_type": "stream",
     "text": [
      "5\n"
     ]
    }
   ],
   "source": [
    "l=[3,2,5,4]\n",
    "for number in range(0,3):\n",
    "    if(l[number]>l[0]):\n",
    "                   n=l[number]\n",
    "                   l[0]=n\n",
    "                   l[number]=l[0]\n",
    "                    \n",
    "     \n",
    "\n",
    "print(l[1])\n",
    "     #printimg the maximum number   "
   ]
  },
  {
   "cell_type": "code",
   "execution_count": 37,
   "metadata": {},
   "outputs": [
    {
     "name": "stdout",
     "output_type": "stream",
     "text": [
      "5.0\n"
     ]
    }
   ],
   "source": [
    "l=[1,2,3,4,5,6,7,8,9]\n",
    "n=0\n",
    "for i in l:\n",
    "    n=n+i\n",
    "sum=n/len(l)\n",
    "print(sum)\n",
    "    #average"
   ]
  },
  {
   "cell_type": "code",
   "execution_count": 167,
   "metadata": {},
   "outputs": [
    {
     "name": "stdout",
     "output_type": "stream",
     "text": [
      "[4, 4, 4]\n"
     ]
    }
   ],
   "source": [
    "l=[1,2,3]\n",
    "r=[3,2,1]\n",
    "sum=[]\n",
    "for j in range(3):\n",
    "    sum.append(l[j]+r[j])\n",
    "print(sum)\n",
    "    #adding number of two list"
   ]
  },
  {
   "cell_type": "code",
   "execution_count": 50,
   "metadata": {},
   "outputs": [
    {
     "name": "stdout",
     "output_type": "stream",
     "text": [
      "11 5 -12\n",
      "their sum: 4\n"
     ]
    }
   ],
   "source": [
    "l=[[11,2,4],[4,5,6],[10,8,-12]]\n",
    "print(l[0][0],l[1][1],l[2][2])\n",
    "print(\"their sum:\",l[0][0]+l[1][1]+l[2][2])\n",
    "\n",
    "    \n",
    "\n",
    "#printing certain number and their sum"
   ]
  },
  {
   "cell_type": "code",
   "execution_count": 29,
   "metadata": {},
   "outputs": [
    {
     "name": "stdout",
     "output_type": "stream",
     "text": [
      "positive: 3 negative: 3 zero: 2\n"
     ]
    }
   ],
   "source": [
    "l=[2,6,0,-3,0,-1,-4,4]\n",
    "p=0\n",
    "n=0\n",
    "z=0\n",
    "for i in l:\n",
    "    if i<0:\n",
    "        p=p+1\n",
    "    elif i>0:\n",
    "        n=n+1\n",
    "    else:\n",
    "        z=z+1\n",
    "print(\"positive:\",p,\"negative:\",n,\"zero:\",z)\n",
    "    \n",
    "       \n",
    "    #count positive, negative and zero number\n",
    "    "
   ]
  },
  {
   "cell_type": "code",
   "execution_count": 28,
   "metadata": {},
   "outputs": [
    {
     "name": "stdout",
     "output_type": "stream",
     "text": [
      "2\n"
     ]
    }
   ],
   "source": [
    "l='banana'\n",
    "count=0\n",
    "for letter in l:\n",
    "    if letter=='n':\n",
    "      count=count+1\n",
    "print(count)\n",
    "# count n letter in a word"
   ]
  },
  {
   "cell_type": "code",
   "execution_count": 41,
   "metadata": {},
   "outputs": [
    {
     "name": "stdout",
     "output_type": "stream",
     "text": [
      "6\n",
      "9\n",
      "15\n",
      "18\n",
      "21\n"
     ]
    }
   ],
   "source": [
    "l=[5,6,9,10,15,17,18,21]\n",
    "for n in l:\n",
    "    if n%3==0:\n",
    "        print(n)\n",
    "     \n",
    " #multiples of in a list of integers   "
   ]
  },
  {
   "cell_type": "code",
   "execution_count": 42,
   "metadata": {},
   "outputs": [
    {
     "name": "stdout",
     "output_type": "stream",
     "text": [
      "[1, 2, 3, 4, 5, 6, 7, 8, 9]\n"
     ]
    }
   ],
   "source": [
    "l=[1,6,8,4,5,2,7,3,9]\n",
    "l.sort()\n",
    "print(l)\n"
   ]
  },
  {
   "cell_type": "code",
   "execution_count": 52,
   "metadata": {},
   "outputs": [
    {
     "name": "stdout",
     "output_type": "stream",
     "text": [
      "[1, 1, 2, 3, 5, 8, 13, 21, 34, 55, 89, 144, 233, 377, 610, 987, 1597, 2584, 4181, 6765, 10946, 17711, 28657, 46368, 75025, 121393, 196418, 317811, 514229, 832040, 1346269, 2178309, 3524578, 5702887, 9227465, 14930352, 24157817, 39088169, 63245986, 102334155, 165580141, 267914296, 433494437, 701408733, 1134903170, 1836311903, 2971215073, 4807526976, 7778742049, 12586269025, 20365011074, 32951280099]\n"
     ]
    },
    {
     "data": {
      "text/plain": [
       "' Suppose you are given the list [1, 1], if you add the last\\ntwo numbers and append it to the list, the new list will be [1, 1, 2].\\nIf you repeat this addition sequence on the new list three more times,\\nyou obtain [1, 1, 2, 3, 5, 8]. Starting with [1, 1], can you print the\\nresulting list if you carry out this addition sequence 50 times? You’ve\\njust printed the first 50 elements of the Fibonacci sequence. '"
      ]
     },
     "execution_count": 52,
     "metadata": {},
     "output_type": "execute_result"
    }
   ],
   "source": [
    "l=[1,1]\n",
    "new=1\n",
    "for n in range(50):\n",
    "    new=new+l[n]\n",
    "    l.append(new)\n",
    "    \n",
    "print(l)\n",
    "\n",
    "  \"\"\"\n",
    "      Suppose you are given the list [1, 1], if you add the last\n",
    "two numbers and append it to the list, the new list will be [1, 1, 2].\n",
    "If you repeat this addition sequence on the new list three more times,\n",
    "you obtain [1, 1, 2, 3, 5, 8]. Starting with [1, 1], can you print the\n",
    "resulting list if you carry out this addition sequence 50 times? You’ve\n",
    "just printed the first 50 elements of the Fibonacci sequence.\n",
    "\"\"\""
   ]
  },
  {
   "cell_type": "code",
   "execution_count": 51,
   "metadata": {},
   "outputs": [
    {
     "name": "stdout",
     "output_type": "stream",
     "text": [
      "o,r,a,n,g,e,"
     ]
    }
   ],
   "source": [
    "l='orange'\n",
    "for letter in l:\n",
    "    print(letter, end=\",\")\n",
    "    "
   ]
  },
  {
   "cell_type": "code",
   "execution_count": null,
   "metadata": {},
   "outputs": [],
   "source": [
    "l='f,s,t'\n"
   ]
  }
 ],
 "metadata": {
  "kernelspec": {
   "display_name": "Python 3",
   "language": "python",
   "name": "python3"
  },
  "language_info": {
   "codemirror_mode": {
    "name": "ipython",
    "version": 3
   },
   "file_extension": ".py",
   "mimetype": "text/x-python",
   "name": "python",
   "nbconvert_exporter": "python",
   "pygments_lexer": "ipython3",
   "version": "3.7.3"
  }
 },
 "nbformat": 4,
 "nbformat_minor": 2
}
